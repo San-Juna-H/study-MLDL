{
 "cells": [
  {
   "cell_type": "markdown",
   "metadata": {},
   "source": [
    "# Introduction"
   ]
  },
  {
   "cell_type": "markdown",
   "metadata": {},
   "source": [
    "Task :     \n",
    "Method :      \n",
    "Dataset : "
   ]
  },
  {
   "cell_type": "markdown",
   "metadata": {},
   "source": [
    "# 0. Set Environment"
   ]
  },
  {
   "cell_type": "markdown",
   "metadata": {},
   "source": [
    "# 1. Process Data"
   ]
  },
  {
   "cell_type": "markdown",
   "metadata": {},
   "source": [
    "## 1-1. Download Data"
   ]
  },
  {
   "cell_type": "markdown",
   "metadata": {},
   "source": [
    "## 1-2. Load Data"
   ]
  },
  {
   "cell_type": "markdown",
   "metadata": {},
   "source": [
    "# 2. Define Model"
   ]
  },
  {
   "cell_type": "markdown",
   "metadata": {},
   "source": [
    "## 2-1. Model Structure"
   ]
  },
  {
   "cell_type": "code",
   "execution_count": null,
   "metadata": {
    "vscode": {
     "languageId": "plaintext"
    }
   },
   "outputs": [],
   "source": [
    "def Attention(Query: Annotated[Tensor, 'batch_size, num_layers, hidden_dim'], \n",
    "              Key:   Annotated[Tensor, 'batch_size, num_layers, seq_length, hidden_dim'],\n",
    "              Value: Annotated[Tensor, 'batch_size, num_layers, seq_length, hidden_dim']) -> Attention_Value: Annotated[Tensor, 'batch_size, num_layers, hidden_dim']:\n",
    "    \n",
    "\n",
    "    torch.matmul(key, Query) -> 'batch_size, seq_length' -> softmax\n",
    "    'batch_size, seq_length' * 'batch_size, seq_length, hidden_dim' -> 'batch_size, hidden_dim'\n",
    "\n",
    "\n",
    "    # Query: Decoder hidden state\n",
    "    # Key: Encoder hidden state\n",
    "    # Value: Encoder hidden state\n",
    "    # Query dot Key = attention score\n",
    "    # attention score -> softmax -> attention coefficient\n",
    "    # attention coefficient * Value -> weighted_sum -> Attention_Value\n",
    "\n",
    "    return Attention_Value"
   ]
  },
  {
   "cell_type": "markdown",
   "metadata": {},
   "source": [
    "## 2-2. Hyperparameter & Functions"
   ]
  },
  {
   "cell_type": "markdown",
   "metadata": {},
   "source": [
    "# 3. Train"
   ]
  },
  {
   "cell_type": "markdown",
   "metadata": {},
   "source": [
    "# 4. Test"
   ]
  },
  {
   "cell_type": "markdown",
   "metadata": {},
   "source": [
    "# 5. Inference"
   ]
  },
  {
   "cell_type": "markdown",
   "metadata": {},
   "source": [
    "# 6. Visualize Results"
   ]
  },
  {
   "cell_type": "markdown",
   "metadata": {},
   "source": [
    "# Limitation"
   ]
  }
 ],
 "metadata": {
  "language_info": {
   "name": "python"
  }
 },
 "nbformat": 4,
 "nbformat_minor": 2
}
